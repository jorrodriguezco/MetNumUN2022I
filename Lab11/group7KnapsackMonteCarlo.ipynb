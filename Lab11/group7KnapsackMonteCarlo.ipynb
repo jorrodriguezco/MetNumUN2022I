{
  "nbformat": 4,
  "nbformat_minor": 0,
  "metadata": {
    "colab": {
      "name": "group7KnapsackMonteCarlo.ipynb",
      "provenance": [],
      "collapsed_sections": []
    },
    "kernelspec": {
      "name": "python3",
      "display_name": "Python 3"
    },
    "language_info": {
      "name": "python"
    }
  },
  "cells": [
    {
      "cell_type": "markdown",
      "metadata": {
        "id": "view-in-github"
      },
      "source": [
        "<a href=\"https://colab.research.google.com/github/jescarraga/AlgorithmsUN2021II/blob/main/Lab12/group12KnapsackMonteCarlo.ipynb\" target=\"_parent\"><img src=\"https://colab.research.google.com/assets/colab-badge.svg\" alt=\"Open In Colab\"/></a>"
      ]
    },
    {
      "cell_type": "markdown",
      "source": [
        "# Monte Carlo, Knapsack\n",
        "<img src=\"https://metnumun.files.wordpress.com/2021/10/image-9.png?w=700\"/>\n",
        "<img src=\"https://algorithmsun.files.wordpress.com/2020/12/01knapsack.png?w=700\"/>"
      ],
      "metadata": {
        "id": "4uPu6WgUNjp9"
      }
    },
    {
      "cell_type": "code",
      "source": [
        "# knapsack confirmation\n",
        "import numpy as np\n",
        "import itertools\n",
        "\n",
        "\n",
        "def knapsack_validator(a, b, x):\n",
        "    return np.sum(np.multiply(a, x)) <= b"
      ],
      "metadata": {
        "id": "XTMF5Yx6PLhr"
      },
      "execution_count": 1,
      "outputs": []
    },
    {
      "cell_type": "code",
      "execution_count": 4,
      "metadata": {
        "colab": {
          "base_uri": "https://localhost:8080/"
        },
        "id": "RfsvncrMNZiK",
        "outputId": "309733e4-694d-4e0a-a25b-6bf233fabbb8"
      },
      "outputs": [
        {
          "output_type": "stream",
          "name": "stdout",
          "text": [
            "Numero de soluciones: 23 \n",
            "Proporcion es: 0.71875\n"
          ]
        }
      ],
      "source": [
        "def proportion_knapsack_solutions(siz, cap, ls):\n",
        "    solution = 0\n",
        "    for i in list(ls):\n",
        "        if knapsack_validator(siz, cap, np.array(i)):\n",
        "            solution += 1\n",
        "    return solution\n",
        "capacity = 15\n",
        "sizes = np.array([1, 1, 2, 4, 12])\n",
        "pass_list = list(itertools.product([0, 1], repeat=sizes.size))\n",
        "solutions = proportion_knapsack_solutions(sizes, capacity, pass_list)\n",
        "combinations = (2 ** sizes.size)\n",
        "proportion = solutions / combinations\n",
        "\n",
        "print(f'Numero de soluciones: {solutions} \\nProporcion es: {proportion}')"
      ]
    },
    {
      "cell_type": "code",
      "source": [
        "def estimate_proportion_knapsack_solutions(siz, cap, runt):\n",
        "    solution = 0\n",
        "    for i in range(1, runt + 1):\n",
        "        x = np.random.randint(2, size=siz.size)\n",
        "        if knapsack_validator(siz, cap, x):\n",
        "            solution += 1\n",
        "    return solution\n",
        "capacity, runtime = 10, 1000\n",
        "sizes = np.array([1, 2, 3, 4, 5, 6, 7, 9, 10])\n",
        "solutions = estimate_proportion_knapsack_solutions(sizes, capacity, runtime)\n",
        "proportion = solutions / runtime\n",
        "\n",
        "print(f'Para {runtime} vectores aleatorios el numero de soluciones es: {solutions} con una proporcion de: {proportion}')"
      ],
      "metadata": {
        "colab": {
          "base_uri": "https://localhost:8080/"
        },
        "id": "O7WhMNqeSMOM",
        "outputId": "4690b27a-5c41-4ed6-eb50-957ffd2ead45"
      },
      "execution_count": 8,
      "outputs": [
        {
          "output_type": "stream",
          "name": "stdout",
          "text": [
            "Para 1000 vectores aleatorios el numero de soluciones es: 75 con una proporcion de: 0.075\n"
          ]
        }
      ]
    },
    {
      "cell_type": "code",
      "source": [
        "runtime = 10000\n",
        "solutions = estimate_proportion_knapsack_solutions(sizes, capacity, runtime)\n",
        "proportion = solutions / runtime\n",
        "\n",
        "print(f'Para {runtime} vectores aleatorios el numero de soluciones es: {solutions} con una proporcion de: {proportion}')"
      ],
      "metadata": {
        "colab": {
          "base_uri": "https://localhost:8080/"
        },
        "id": "vFG752fpVNNL",
        "outputId": "66e5d75b-b08b-4ada-ecc7-bf039e981a21"
      },
      "execution_count": 10,
      "outputs": [
        {
          "output_type": "stream",
          "name": "stdout",
          "text": [
            "Para 10000 vectores aleatorios el numero de soluciones es: 850 con una proporcion de: 0.085\n"
          ]
        }
      ]
    },
    {
      "cell_type": "code",
      "source": [
        "def estimate_proportion_capacity_knapsack_solutions(siz, cap, runt):\n",
        "    solution = 0\n",
        "    for i in range(1, runt + 1):\n",
        "        x = np.random.randint(2, size=siz.size)\n",
        "        if knapsack_validator(siz, cap, x):\n",
        "            solution += 1\n",
        "    return solution\n",
        "\n",
        "capacity, runtime = 10, 10000\n",
        "sizes = np.array(list(range(1, 51)))\n",
        "solutions = estimate_proportion_capacity_knapsack_solutions(sizes, capacity, runtime)\n",
        "proportion = solutions / runtime\n",
        "\n",
        "print(f'Para {runtime} vectores aleatorios con una capacidad de: {capacity} la cantidad de soluciones es: {solutions} con una proporcion de: {proportion}')\n",
        "\n",
        "capacity, runtime = 10, 100000\n",
        "solutions = estimate_proportion_capacity_knapsack_solutions(sizes, capacity, runtime)\n",
        "proportion = solutions / runtime\n",
        "print(f'Para {runtime} vectores aleatorios con una capacidad de: {capacity} la cantidad de soluciones es: {solutions} con una proporcion de: {proportion}')\n",
        "\n",
        "capacity, runtime = 10, 1000000\n",
        "solutions = estimate_proportion_capacity_knapsack_solutions(sizes, capacity, runtime)\n",
        "proportion = solutions / runtime\n",
        "print(f'Para {runtime} vectores aleatorios con una capacidad de: {capacity} la cantidad de soluciones es: {solutions} con una proporcion de: {proportion}')\n",
        "\n",
        "capacity, runtime = 50, 10000\n",
        "sizes = np.array(list(range(1, 51)))\n",
        "solutions = estimate_proportion_capacity_knapsack_solutions(sizes, capacity, runtime)\n",
        "proportion = solutions / runtime\n",
        "print(f'Para {runtime} vectores aleatorios con una capacidad de: {capacity} la cantidad de soluciones es: {solutions} con una proporcion de: {proportion}')\n",
        "\n",
        "capacity, runtime = 50, 100000\n",
        "solutions = estimate_proportion_capacity_knapsack_solutions(sizes, capacity, runtime)\n",
        "proportion = solutions / runtime\n",
        "print(f'Para {runtime} vectores aleatorios con una capacidad de: {capacity} la cantidad de soluciones es: {solutions} con una proporcion de: {proportion}')\n",
        "\n",
        "capacity, runtime = 50, 1000000\n",
        "solutions = estimate_proportion_capacity_knapsack_solutions(sizes, capacity, runtime)\n",
        "proportion = solutions / runtime\n",
        "print(f'Para {runtime} vectores aleatorios con una capacidad de: {capacity} la cantidad de soluciones es: {solutions} con una proporcion de: {proportion}')\n",
        "\n",
        "capacity, runtime = 100, 10000\n",
        "sizes = np.array(list(range(1, 51)))\n",
        "solutions = estimate_proportion_capacity_knapsack_solutions(sizes, capacity, runtime)\n",
        "proportion = solutions / runtime\n",
        "print(f'Para {runtime} vectores aleatorios con una capacidad de: {capacity} la cantidad de soluciones es: {solutions} con una proporcion de: {proportion}')\n",
        "\n",
        "capacity, runtime = 100, 100000\n",
        "solutions = estimate_proportion_capacity_knapsack_solutions(sizes, capacity, runtime)\n",
        "proportion = solutions / runtime\n",
        "print(f'Para {runtime} vectores aleatorios con una capacidad de: {capacity} la cantidad de soluciones es: {solutions} con una proporcion de: {proportion}')\n",
        "\n",
        "capacity, runtime = 100, 1000000\n",
        "solutions = estimate_proportion_capacity_knapsack_solutions(sizes, capacity, runtime)\n",
        "proportion = solutions / runtime\n",
        "print(f'Para {runtime} vectores aleatorios con una capacidad de: {capacity} la cantidad de soluciones es: {solutions} con una proporcion de: {proportion}')\n",
        "\n",
        "capacity, runtime = 1275, 10000\n",
        "sizes = np.array(list(range(1, 51)))\n",
        "solutions = estimate_proportion_capacity_knapsack_solutions(sizes, capacity, runtime)\n",
        "proportion = solutions / runtime\n",
        "print(f'Para {runtime} vectores aleatorios con una capacidad de: {capacity} la cantidad de soluciones es: {solutions} con una proporcion de: {proportion}')\n",
        "\n",
        "capacity, runtime = 1275, 100000\n",
        "solutions = estimate_proportion_capacity_knapsack_solutions(sizes, capacity, runtime)\n",
        "proportion = solutions / runtime\n",
        "print(f'Para {runtime} vectores aleatorios con una capacidad de: {capacity} la cantidad de soluciones es: {solutions} con una proporcion de: {proportion}')\n",
        "\n",
        "capacity, runtime = 1275, 1000000\n",
        "solutions = estimate_proportion_capacity_knapsack_solutions(sizes, capacity, runtime)\n",
        "proportion = solutions / runtime\n",
        "print(f'Para {runtime} vectores aleatorios con una capacidad de: {capacity} la cantidad de soluciones es: {solutions} con una proporcion de: {proportion}')"
      ],
      "metadata": {
        "id": "RtEg6IvydZWw",
        "colab": {
          "base_uri": "https://localhost:8080/"
        },
        "outputId": "42f8894e-f647-4050-9e40-20c1ae48a9e1"
      },
      "execution_count": 17,
      "outputs": [
        {
          "output_type": "stream",
          "name": "stdout",
          "text": [
            "Para 10000 vectores aleatorios con una capacidad de: 10 la cantidad de soluciones es: 0 con una proporcion de: 0.0\n",
            "Para 100000 vectores aleatorios con una capacidad de: 10 la cantidad de soluciones es: 0 con una proporcion de: 0.0\n",
            "Para 1000000 vectores aleatorios con una capacidad de: 10 la cantidad de soluciones es: 0 con una proporcion de: 0.0\n",
            "Para 10000 vectores aleatorios con una capacidad de: 50 la cantidad de soluciones es: 0 con una proporcion de: 0.0\n",
            "Para 100000 vectores aleatorios con una capacidad de: 50 la cantidad de soluciones es: 0 con una proporcion de: 0.0\n",
            "Para 1000000 vectores aleatorios con una capacidad de: 50 la cantidad de soluciones es: 0 con una proporcion de: 0.0\n",
            "Para 10000 vectores aleatorios con una capacidad de: 100 la cantidad de soluciones es: 0 con una proporcion de: 0.0\n",
            "Para 100000 vectores aleatorios con una capacidad de: 100 la cantidad de soluciones es: 0 con una proporcion de: 0.0\n",
            "Para 1000000 vectores aleatorios con una capacidad de: 100 la cantidad de soluciones es: 0 con una proporcion de: 0.0\n",
            "Para 10000 vectores aleatorios con una capacidad de: 1275 la cantidad de soluciones es: 10000 con una proporcion de: 1.0\n",
            "Para 100000 vectores aleatorios con una capacidad de: 1275 la cantidad de soluciones es: 100000 con una proporcion de: 1.0\n",
            "Para 1000000 vectores aleatorios con una capacidad de: 1275 la cantidad de soluciones es: 1000000 con una proporcion de: 1.0\n"
          ]
        }
      ]
    }
  ]
}